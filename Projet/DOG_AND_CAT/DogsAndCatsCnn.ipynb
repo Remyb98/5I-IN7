{
 "cells": [
  {
   "cell_type": "markdown",
   "id": "f3db7456-55f8-41b2-8990-9bf752d244cb",
   "metadata": {},
   "source": [
    "# Import des librairies"
   ]
  },
  {
   "cell_type": "code",
   "execution_count": 55,
   "id": "c2c5c61f-9bb6-4a69-8744-4ca98f3f2aeb",
   "metadata": {},
   "outputs": [],
   "source": [
    "import matplotlib.pyplot as plt\n",
    "import os\n",
    "\n",
    "from keras.models import Sequential\n",
    "from keras.layers import MaxPooling2D, Dropout, Conv2D, Flatten, Dense\n",
    "from keras.preprocessing.image import ImageDataGenerator"
   ]
  },
  {
   "cell_type": "markdown",
   "id": "39912846-dc98-4591-a78e-000418a2bc16",
   "metadata": {},
   "source": [
    "# Chargement des photos"
   ]
  },
  {
   "cell_type": "code",
   "execution_count": 56,
   "id": "54fe4b39-2bae-4328-b478-c5b98882a9b4",
   "metadata": {},
   "outputs": [],
   "source": [
    "train_path = \"dataset/training_set/\"\n",
    "test_path = \"dataset/test_set/\"\n",
    "classes = os.listdir(train_path)"
   ]
  },
  {
   "cell_type": "code",
   "execution_count": 57,
   "id": "755d75f3-6aa2-4927-a452-050c4988849a",
   "metadata": {},
   "outputs": [
    {
     "name": "stdout",
     "output_type": "stream",
     "text": [
      "['cats', 'dogs']\n"
     ]
    }
   ],
   "source": [
    "print(classes)"
   ]
  },
  {
   "cell_type": "code",
   "execution_count": 58,
   "id": "3641bad2-6c93-4174-9060-dc8c73dbc8d0",
   "metadata": {},
   "outputs": [],
   "source": [
    "# Initialising the CNN\n",
    "classifier = Sequential([\n",
    "    Conv2D(32, (3, 3), input_shape = (64, 64, 3), activation = 'relu'), # Step 1 - Convolution\n",
    "    MaxPooling2D(pool_size = (2, 2)), # Step 2 - Pooling\n",
    "    Conv2D(32, (3, 3), activation = 'relu'), # Adding a second convolutional layer\n",
    "    MaxPooling2D(pool_size = (2, 2)),\n",
    "    Flatten(), # Step 3 - Flattening\n",
    "    Dense(units = 128, activation = 'relu'), # Step 4 - Full connection\n",
    "    Dense(units = 1, activation = 'sigmoid')\n",
    "])\n",
    "\n",
    "# Compiling the CNN\n",
    "classifier.compile(optimizer = 'adam', loss = 'binary_crossentropy', metrics = ['accuracy'])"
   ]
  },
  {
   "cell_type": "code",
   "execution_count": 59,
   "id": "76a8ea42-c8ec-48ba-b6e0-e744cb9f00d4",
   "metadata": {},
   "outputs": [],
   "source": [
    "train_datagen = ImageDataGenerator(rescale = 1./255, shear_range = 0.2, zoom_range = 0.2, horizontal_flip = True)\n",
    "test_datagen = ImageDataGenerator(rescale = 1./255)"
   ]
  },
  {
   "cell_type": "code",
   "execution_count": 60,
   "id": "58922c1f-8b02-4aeb-8658-a14e1d03d7d4",
   "metadata": {},
   "outputs": [
    {
     "name": "stdout",
     "output_type": "stream",
     "text": [
      "Found 8000 images belonging to 2 classes.\n",
      "Found 2000 images belonging to 2 classes.\n"
     ]
    }
   ],
   "source": [
    "training_set = train_datagen.flow_from_directory(\n",
    "    train_path,\n",
    "    target_size = (64, 64),\n",
    "    batch_size = 32,\n",
    "    class_mode = 'binary'\n",
    ")\n",
    "\n",
    "test_set = test_datagen.flow_from_directory(\n",
    "    test_path,\n",
    "    target_size = (64, 64),\n",
    "    batch_size = 32,\n",
    "    class_mode = 'binary'\n",
    ")"
   ]
  },
  {
   "cell_type": "code",
   "execution_count": 61,
   "id": "215831eb-dd0e-4381-ad6e-67857e999fb9",
   "metadata": {
    "tags": []
   },
   "outputs": [
    {
     "name": "stdout",
     "output_type": "stream",
     "text": [
      "Epoch 1/20\n",
      "250/250 [==============================] - 24s 93ms/step - loss: 0.6864 - accuracy: 0.5440 - val_loss: 0.5925 - val_accuracy: 0.6910\n",
      "Epoch 2/20\n",
      "250/250 [==============================] - 20s 82ms/step - loss: 0.6209 - accuracy: 0.6463 - val_loss: 0.5728 - val_accuracy: 0.7005\n",
      "Epoch 3/20\n",
      "250/250 [==============================] - 26s 103ms/step - loss: 0.5823 - accuracy: 0.6930 - val_loss: 0.5250 - val_accuracy: 0.7455\n",
      "Epoch 4/20\n",
      "250/250 [==============================] - 22s 90ms/step - loss: 0.5311 - accuracy: 0.7368 - val_loss: 0.4952 - val_accuracy: 0.7635\n",
      "Epoch 5/20\n",
      "250/250 [==============================] - 23s 91ms/step - loss: 0.5106 - accuracy: 0.7411 - val_loss: 0.5337 - val_accuracy: 0.7295\n",
      "Epoch 6/20\n",
      "250/250 [==============================] - 23s 92ms/step - loss: 0.4926 - accuracy: 0.7549 - val_loss: 0.4864 - val_accuracy: 0.7735\n",
      "Epoch 7/20\n",
      "250/250 [==============================] - 23s 92ms/step - loss: 0.4647 - accuracy: 0.7748 - val_loss: 0.4921 - val_accuracy: 0.7635\n",
      "Epoch 8/20\n",
      "250/250 [==============================] - 21s 86ms/step - loss: 0.4579 - accuracy: 0.7840 - val_loss: 0.4598 - val_accuracy: 0.7890\n",
      "Epoch 9/20\n",
      "250/250 [==============================] - 23s 92ms/step - loss: 0.4349 - accuracy: 0.7936 - val_loss: 0.5651 - val_accuracy: 0.7355\n",
      "Epoch 10/20\n",
      "250/250 [==============================] - 24s 95ms/step - loss: 0.4221 - accuracy: 0.8006 - val_loss: 0.6019 - val_accuracy: 0.7205\n",
      "Epoch 11/20\n",
      "250/250 [==============================] - 22s 86ms/step - loss: 0.4116 - accuracy: 0.8109 - val_loss: 0.4638 - val_accuracy: 0.7860\n",
      "Epoch 12/20\n",
      "250/250 [==============================] - 20s 78ms/step - loss: 0.4050 - accuracy: 0.8143 - val_loss: 0.4501 - val_accuracy: 0.8070\n",
      "Epoch 13/20\n",
      "250/250 [==============================] - 20s 78ms/step - loss: 0.3707 - accuracy: 0.8303 - val_loss: 0.4454 - val_accuracy: 0.7965\n",
      "Epoch 14/20\n",
      "250/250 [==============================] - 20s 81ms/step - loss: 0.3653 - accuracy: 0.8356 - val_loss: 0.4507 - val_accuracy: 0.8065\n",
      "Epoch 15/20\n",
      "250/250 [==============================] - 20s 80ms/step - loss: 0.3534 - accuracy: 0.8381 - val_loss: 0.4659 - val_accuracy: 0.7960\n",
      "Epoch 16/20\n",
      "250/250 [==============================] - 20s 79ms/step - loss: 0.3356 - accuracy: 0.8563 - val_loss: 0.4850 - val_accuracy: 0.7965\n",
      "Epoch 17/20\n",
      "250/250 [==============================] - 20s 81ms/step - loss: 0.3142 - accuracy: 0.8655 - val_loss: 0.4922 - val_accuracy: 0.7935\n",
      "Epoch 18/20\n",
      "250/250 [==============================] - 20s 79ms/step - loss: 0.3022 - accuracy: 0.8692 - val_loss: 0.4821 - val_accuracy: 0.7920\n",
      "Epoch 19/20\n",
      "250/250 [==============================] - 20s 81ms/step - loss: 0.2899 - accuracy: 0.8746 - val_loss: 0.5242 - val_accuracy: 0.7945\n",
      "Epoch 20/20\n",
      "250/250 [==============================] - 20s 79ms/step - loss: 0.2904 - accuracy: 0.8737 - val_loss: 0.5168 - val_accuracy: 0.7880\n"
     ]
    }
   ],
   "source": [
    "history = classifier.fit(training_set, epochs = 20, validation_data = test_set, batch_size=16)"
   ]
  },
  {
   "cell_type": "code",
   "execution_count": 62,
   "id": "8eafaef0-30af-484c-932c-c79fad362fb0",
   "metadata": {},
   "outputs": [
    {
     "data": {
      "text/plain": "<matplotlib.legend.Legend at 0x26a994c3df0>"
     },
     "execution_count": 62,
     "metadata": {},
     "output_type": "execute_result"
    },
    {
     "data": {
      "text/plain": "<Figure size 432x288 with 1 Axes>",
      "image/png": "[encoded data removed]"
     },
     "metadata": {
      "needs_background": "light"
     },
     "output_type": "display_data"
    }
   ],
   "source": [
    "plt.plot(history.history['accuracy'], label='accuracy')\n",
    "plt.plot(history.history['val_accuracy'], label='val_accuracy')\n",
    "plt.xlabel('Epoch')\n",
    "plt.ylabel('Accuracy')\n",
    "plt.legend(loc='lower right')"
   ]
  },
  {
   "cell_type": "code",
   "execution_count": 63,
   "outputs": [
    {
     "name": "stdout",
     "output_type": "stream",
     "text": [
      "63/63 [==============================] - 2s 29ms/step - loss: 0.5168 - accuracy: 0.7880\n",
      "Test accuracy: 0.7879999876022339\n"
     ]
    }
   ],
   "source": [
    "loss, accuracy = classifier.evaluate(test_set)\n",
    "print(f\"Test accuracy: {accuracy}\")"
   ],
   "metadata": {
    "collapsed": false,
    "pycharm": {
     "name": "#%%\n"
    }
   }
  },
  {
   "cell_type": "code",
   "execution_count": 71,
   "outputs": [
    {
     "name": "stdout",
     "output_type": "stream",
     "text": [
      "Epoch 1/25\n",
      "250/250 [==============================] - 29s 111ms/step - loss: 0.6968 - accuracy: 0.4985 - val_loss: 0.6897 - val_accuracy: 0.6060\n",
      "Epoch 2/25\n",
      "250/250 [==============================] - 25s 100ms/step - loss: 0.6832 - accuracy: 0.5714 - val_loss: 0.6536 - val_accuracy: 0.6270\n",
      "Epoch 3/25\n",
      "250/250 [==============================] - 25s 99ms/step - loss: 0.6454 - accuracy: 0.6378 - val_loss: 0.6909 - val_accuracy: 0.5800\n",
      "Epoch 4/25\n",
      "250/250 [==============================] - 26s 105ms/step - loss: 0.6349 - accuracy: 0.6384 - val_loss: 0.5854 - val_accuracy: 0.6905\n",
      "Epoch 5/25\n",
      "250/250 [==============================] - 28s 112ms/step - loss: 0.5979 - accuracy: 0.6774 - val_loss: 0.5598 - val_accuracy: 0.7130\n",
      "Epoch 6/25\n",
      "250/250 [==============================] - 27s 107ms/step - loss: 0.5716 - accuracy: 0.6933 - val_loss: 0.5460 - val_accuracy: 0.7205\n",
      "Epoch 7/25\n",
      "250/250 [==============================] - 27s 109ms/step - loss: 0.5624 - accuracy: 0.6990 - val_loss: 0.4924 - val_accuracy: 0.7695\n",
      "Epoch 8/25\n",
      "250/250 [==============================] - 28s 111ms/step - loss: 0.5256 - accuracy: 0.7365 - val_loss: 0.4755 - val_accuracy: 0.7765\n",
      "Epoch 9/25\n",
      "250/250 [==============================] - 27s 107ms/step - loss: 0.5106 - accuracy: 0.7540 - val_loss: 0.4771 - val_accuracy: 0.7770\n",
      "Epoch 10/25\n",
      "250/250 [==============================] - 28s 112ms/step - loss: 0.4905 - accuracy: 0.7631 - val_loss: 0.4646 - val_accuracy: 0.7765\n",
      "Epoch 11/25\n",
      "250/250 [==============================] - 27s 108ms/step - loss: 0.5025 - accuracy: 0.7550 - val_loss: 0.4601 - val_accuracy: 0.7865\n",
      "Epoch 12/25\n",
      "250/250 [==============================] - 27s 106ms/step - loss: 0.4850 - accuracy: 0.7689 - val_loss: 0.4347 - val_accuracy: 0.8015\n",
      "Epoch 13/25\n",
      "250/250 [==============================] - 26s 105ms/step - loss: 0.4743 - accuracy: 0.7789 - val_loss: 0.4986 - val_accuracy: 0.7565\n",
      "Epoch 14/25\n",
      "250/250 [==============================] - 23s 91ms/step - loss: 0.4635 - accuracy: 0.7809 - val_loss: 0.4489 - val_accuracy: 0.7955\n",
      "Epoch 15/25\n",
      "250/250 [==============================] - 26s 103ms/step - loss: 0.4453 - accuracy: 0.7851 - val_loss: 0.4836 - val_accuracy: 0.7735\n",
      "Epoch 16/25\n",
      "250/250 [==============================] - 25s 101ms/step - loss: 0.4436 - accuracy: 0.7926 - val_loss: 0.4159 - val_accuracy: 0.8095\n",
      "Epoch 17/25\n",
      "250/250 [==============================] - 27s 107ms/step - loss: 0.4212 - accuracy: 0.8034 - val_loss: 0.4351 - val_accuracy: 0.7930\n",
      "Epoch 18/25\n",
      "250/250 [==============================] - 27s 108ms/step - loss: 0.4275 - accuracy: 0.7975 - val_loss: 0.4145 - val_accuracy: 0.8235\n",
      "Epoch 19/25\n",
      "250/250 [==============================] - 24s 97ms/step - loss: 0.4229 - accuracy: 0.8078 - val_loss: 0.4253 - val_accuracy: 0.7990\n",
      "Epoch 20/25\n",
      "250/250 [==============================] - 24s 97ms/step - loss: 0.3997 - accuracy: 0.8049 - val_loss: 0.4301 - val_accuracy: 0.8065\n",
      "Epoch 21/25\n",
      "250/250 [==============================] - 25s 99ms/step - loss: 0.4059 - accuracy: 0.8167 - val_loss: 0.4005 - val_accuracy: 0.8200\n",
      "Epoch 22/25\n",
      "250/250 [==============================] - 25s 99ms/step - loss: 0.3932 - accuracy: 0.8201 - val_loss: 0.4048 - val_accuracy: 0.8165\n",
      "Epoch 23/25\n",
      "250/250 [==============================] - 27s 106ms/step - loss: 0.3873 - accuracy: 0.8217 - val_loss: 0.4125 - val_accuracy: 0.8020\n",
      "Epoch 24/25\n",
      "250/250 [==============================] - 26s 105ms/step - loss: 0.3815 - accuracy: 0.8236 - val_loss: 0.4066 - val_accuracy: 0.8170\n",
      "Epoch 25/25\n",
      "250/250 [==============================] - 29s 116ms/step - loss: 0.3598 - accuracy: 0.8383 - val_loss: 0.4135 - val_accuracy: 0.8100\n"
     ]
    }
   ],
   "source": [
    "model = Sequential([\n",
    "    Conv2D(filters = 32, kernel_size = (3, 3), activation = 'relu', input_shape = training_set.image_shape),\n",
    "\tMaxPooling2D(pool_size = (2, 2)),\n",
    "\tDropout(rate = 0.3),\n",
    "\tConv2D(filters = 64, kernel_size = (3, 3), activation = 'relu'),\n",
    "\tMaxPooling2D(pool_size = (2, 2)),\n",
    "\tDropout(rate = 0.2),\n",
    "\tConv2D(filters = 126, kernel_size = (3, 3), activation = 'relu'),\n",
    "\tMaxPooling2D(pool_size = (2, 2)),\n",
    "\tDropout(rate = 0.15),\n",
    "\tFlatten(),\n",
    "\tDense(units = 32, activation = 'relu'),\n",
    "\tDropout(rate = 0.15),\n",
    "\tDense(units = 64, activation = 'relu'),\n",
    "\tDropout(rate = 0.1),\n",
    "\tDense(units = len(set(training_set.classes)), activation = 'softmax')\n",
    "])\n",
    "\n",
    "model.compile(optimizer = 'adam', loss = 'sparse_categorical_crossentropy', metrics = ['accuracy'])\n",
    "history = model.fit(training_set, epochs = 25, validation_data = test_set, batch_size=32)"
   ],
   "metadata": {
    "collapsed": false,
    "pycharm": {
     "name": "#%%\n"
    }
   }
  },
  {
   "cell_type": "code",
   "execution_count": 72,
   "outputs": [
    {
     "data": {
      "text/plain": "<matplotlib.legend.Legend at 0x26a94416730>"
     },
     "execution_count": 72,
     "metadata": {},
     "output_type": "execute_result"
    },
    {
     "data": {
      "text/plain": "<Figure size 432x288 with 1 Axes>",
      "image/png": "[encoded data removed]"
     },
     "metadata": {
      "needs_background": "light"
     },
     "output_type": "display_data"
    }
   ],
   "source": [
    "plt.plot(history.history['accuracy'], label='accuracy')\n",
    "plt.plot(history.history['val_accuracy'], label='val_accuracy')\n",
    "plt.xlabel('Epoch')\n",
    "plt.ylabel('Accuracy')\n",
    "plt.legend(loc='lower right')"
   ],
   "metadata": {
    "collapsed": false,
    "pycharm": {
     "name": "#%%\n"
    }
   }
  },
  {
   "cell_type": "code",
   "execution_count": 73,
   "outputs": [
    {
     "name": "stdout",
     "output_type": "stream",
     "text": [
      "63/63 [==============================] - 2s 31ms/step - loss: 0.4135 - accuracy: 0.8100\n",
      "Test accuracy: 0.8100000023841858\n"
     ]
    }
   ],
   "source": [
    "loss, accuracy = model.evaluate(test_set)\n",
    "print(f\"Test accuracy: {accuracy}\")"
   ],
   "metadata": {
    "collapsed": false,
    "pycharm": {
     "name": "#%%\n"
    }
   }
  }
 ],
 "metadata": {
  "kernelspec": {
   "display_name": "Python 3 (ipykernel)",
   "language": "python",
   "name": "python3"
  },
  "language_info": {
   "codemirror_mode": {
    "name": "ipython",
    "version": 3
   },
   "file_extension": ".py",
   "mimetype": "text/x-python",
   "name": "python",
   "nbconvert_exporter": "python",
   "pygments_lexer": "ipython3",
   "version": "3.9.8"
  }
 },
 "nbformat": 4,
 "nbformat_minor": 5
}