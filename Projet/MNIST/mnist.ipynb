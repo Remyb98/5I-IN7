{
 "cells": [
  {
   "cell_type": "markdown",
   "id": "e157eb5e",
   "metadata": {},
   "source": [
    "# 5I-IN7 : Projet mnist"
   ]
  },
  {
   "cell_type": "markdown",
   "source": [
    "L'objectif de ce projet est de créer une intelligence artificielle qui prendra en entrée une image d'un chiffre et qui devinera quel est le chiffre présent sur cette image. Pour cela, nous allons utiliser le jeu de données MNIST et les différentes librairies dont nous disposons avec Python."
   ],
   "metadata": {
    "collapsed": false,
    "pycharm": {
     "name": "#%% md\n"
    }
   }
  },
  {
   "cell_type": "markdown",
   "source": [
    "On importe les fonctions dont on aura besoin pour le projet"
   ],
   "metadata": {
    "collapsed": false,
    "pycharm": {
     "name": "#%% md\n"
    }
   }
  },
  {
   "cell_type": "code",
   "execution_count": 1,
   "id": "7801d501",
   "metadata": {},
   "outputs": [],
   "source": [
    "import itertools\n",
    "\n",
    "import numpy as np\n",
    "from keras.datasets import mnist\n",
    "from keras.layers import Conv2D\n",
    "from keras.layers import Dense\n",
    "from keras.layers import Flatten\n",
    "from keras.layers import MaxPooling2D\n",
    "from keras.models import Sequential\n",
    "from keras.optimizers import Adam\n",
    "from matplotlib import pyplot as plt\n",
    "from sklearn.metrics import confusion_matrix\n",
    "from tensorflow.keras.utils import to_categorical"
   ]
  },
  {
   "cell_type": "markdown",
   "source": [],
   "metadata": {
    "collapsed": false,
    "pycharm": {
     "name": "#%% md\n"
    }
   }
  },
  {
   "cell_type": "code",
   "execution_count": 2,
   "id": "e6df812a",
   "metadata": {},
   "outputs": [],
   "source": [
    "(x_train, y_train), (x_test, y_test) = mnist.load_data()\n",
    "\n",
    "assert x_train.shape == (60000, 28, 28)\n",
    "assert x_test.shape == (10000, 28, 28)\n",
    "assert y_train.shape == (60000,)\n",
    "assert y_test.shape == (10000,)"
   ]
  },
  {
   "cell_type": "markdown",
   "source": [
    "On convertit nos vecteurs en matrice de 10 classes (de 0 à 9)."
   ],
   "metadata": {
    "collapsed": false,
    "pycharm": {
     "name": "#%% md\n"
    }
   }
  },
  {
   "cell_type": "code",
   "execution_count": 3,
   "outputs": [],
   "source": [
    "y_train = to_categorical(y_train)\n",
    "y_test = to_categorical(y_test)"
   ],
   "metadata": {
    "collapsed": false,
    "pycharm": {
     "name": "#%%\n"
    }
   }
  },
  {
   "cell_type": "markdown",
   "source": [
    "On affiche quelques images de notre jeu de données"
   ],
   "metadata": {
    "collapsed": false,
    "pycharm": {
     "name": "#%% md\n"
    }
   }
  },
  {
   "cell_type": "code",
   "execution_count": 4,
   "id": "4051aa76",
   "metadata": {},
   "outputs": [
    {
     "data": {
      "text/plain": "<generator object <genexpr> at 0x0000025D8749AC80>"
     },
     "execution_count": 4,
     "metadata": {},
     "output_type": "execute_result"
    },
    {
     "data": {
      "text/plain": "<Figure size 720x720 with 9 Axes>",
      "image/png": "[encoded data removed]"
     },
     "metadata": {
      "needs_background": "light"
     },
     "output_type": "display_data"
    }
   ],
   "source": [
    "fig, axs = plt.subplots(3, 3, figsize=(10, 10))\n",
    "n = 0\n",
    "\n",
    "for i in range(3):\n",
    "    for j in range(3):\n",
    "        image = np.array(x_train[n], dtype=\"float\")\n",
    "        axs[i, j].imshow(image.reshape(28, 28), cmap=plt.get_cmap('gray'))\n",
    "        axs[i, j].axis(\"off\")\n",
    "        n += 1\n",
    "\n",
    "(ax.label_outer() for ax in fig.get_axes())"
   ]
  },
  {
   "cell_type": "markdown",
   "id": "ab7d7b11",
   "metadata": {},
   "source": [
    "On va normaliser nos images afin que celles-ci soient compris entre 0 et 1"
   ]
  },
  {
   "cell_type": "code",
   "execution_count": 5,
   "id": "4511c4f2",
   "metadata": {},
   "outputs": [],
   "source": [
    "x_train = x_train.astype('float32') / 255\n",
    "x_test = x_test.astype('float32') / 255"
   ]
  },
  {
   "cell_type": "markdown",
   "source": [
    "Ensuite on convertit nos images en nuance de gris"
   ],
   "metadata": {
    "collapsed": false,
    "pycharm": {
     "name": "#%% md\n"
    }
   }
  },
  {
   "cell_type": "code",
   "execution_count": 6,
   "outputs": [],
   "source": [
    "x_train = x_train.reshape(-1, 28, 28, 1)\n",
    "x_test = x_test.reshape(-1, 28, 28, 1)"
   ],
   "metadata": {
    "collapsed": false,
    "pycharm": {
     "name": "#%%\n"
    }
   }
  },
  {
   "cell_type": "markdown",
   "source": [
    "## Création de notre modèle"
   ],
   "metadata": {
    "collapsed": false,
    "pycharm": {
     "name": "#%% md\n"
    }
   }
  },
  {
   "cell_type": "markdown",
   "source": [
    "Notre modèle sera un réseau de neurone qui aura pour structure :\n",
    "\n",
    "* Une couche de convolution avec 32 filtres avec un kernel de taille 3x3\n",
    "* Une couche max pooling pour réduire les dimensions en récupérant la valeur maximum\n",
    "* Une couche pour réduire notre nombre de channel\n",
    "* Une couche de 100 neurones\n",
    "* Notre couche de sortie contenant 10 neurones qui correspondent à nos 10 classes\n",
    "\n",
    "À cela, nous ajoutons notre méthode de calcul de notre réseau, dans notre cas, nous allons utiliser SGD qui correspond à une descente de gradient avec l'algorithme d'Adam\n"
   ],
   "metadata": {
    "collapsed": false,
    "pycharm": {
     "name": "#%% md\n"
    }
   }
  },
  {
   "cell_type": "code",
   "execution_count": 7,
   "outputs": [],
   "source": [
    "model = Sequential([\n",
    "    Conv2D(32, (3, 3), activation='relu', kernel_initializer='he_uniform', input_shape=(28, 28, 1)),\n",
    "    MaxPooling2D((2, 2)),\n",
    "    Flatten(),\n",
    "    Dense(100, activation='relu', kernel_initializer='he_uniform'),\n",
    "    Dense(10, activation='softmax')\n",
    "])\n",
    "\n",
    "model.compile(\n",
    "    optimizer=Adam(),\n",
    "    loss='categorical_crossentropy',\n",
    "    metrics=['accuracy']\n",
    ")"
   ],
   "metadata": {
    "collapsed": false,
    "pycharm": {
     "name": "#%%\n"
    }
   }
  },
  {
   "cell_type": "markdown",
   "source": [
    "On entraine notre modèle"
   ],
   "metadata": {
    "collapsed": false,
    "pycharm": {
     "name": "#%% md\n"
    }
   }
  },
  {
   "cell_type": "code",
   "execution_count": 8,
   "outputs": [
    {
     "name": "stdout",
     "output_type": "stream",
     "text": [
      "Epoch 1/30\n",
      "1875/1875 [==============================] - 35s 12ms/step - loss: 0.2620 - accuracy: 0.9176 - val_loss: 0.0618 - val_accuracy: 0.9812\n",
      "Epoch 2/30\n",
      "1875/1875 [==============================] - 21s 11ms/step - loss: 0.0511 - accuracy: 0.9850 - val_loss: 0.0529 - val_accuracy: 0.9832\n",
      "Epoch 3/30\n",
      "1875/1875 [==============================] - 18s 10ms/step - loss: 0.0293 - accuracy: 0.9901 - val_loss: 0.0550 - val_accuracy: 0.9833\n",
      "Epoch 4/30\n",
      "1875/1875 [==============================] - 20s 11ms/step - loss: 0.0171 - accuracy: 0.9947 - val_loss: 0.0509 - val_accuracy: 0.9844\n",
      "Epoch 5/30\n",
      "1875/1875 [==============================] - 22s 12ms/step - loss: 0.0113 - accuracy: 0.9966 - val_loss: 0.0474 - val_accuracy: 0.9868\n",
      "Epoch 6/30\n",
      "1875/1875 [==============================] - 21s 11ms/step - loss: 0.0093 - accuracy: 0.9970 - val_loss: 0.0773 - val_accuracy: 0.9795\n",
      "Epoch 7/30\n",
      "1875/1875 [==============================] - 21s 11ms/step - loss: 0.0073 - accuracy: 0.9976 - val_loss: 0.0511 - val_accuracy: 0.9863\n",
      "Epoch 8/30\n",
      "1875/1875 [==============================] - 22s 12ms/step - loss: 0.0031 - accuracy: 0.9992 - val_loss: 0.0571 - val_accuracy: 0.9864\n",
      "Epoch 9/30\n",
      "1875/1875 [==============================] - 22s 11ms/step - loss: 0.0054 - accuracy: 0.9982 - val_loss: 0.0618 - val_accuracy: 0.9857\n",
      "Epoch 10/30\n",
      "1875/1875 [==============================] - 24s 13ms/step - loss: 0.0055 - accuracy: 0.9985 - val_loss: 0.0553 - val_accuracy: 0.9872\n",
      "Epoch 11/30\n",
      "1875/1875 [==============================] - 24s 13ms/step - loss: 0.0028 - accuracy: 0.9990 - val_loss: 0.0632 - val_accuracy: 0.9854\n",
      "Epoch 12/30\n",
      "1875/1875 [==============================] - 21s 11ms/step - loss: 0.0027 - accuracy: 0.9990 - val_loss: 0.0699 - val_accuracy: 0.9864\n",
      "Epoch 13/30\n",
      "1875/1875 [==============================] - 22s 12ms/step - loss: 0.0012 - accuracy: 0.9998 - val_loss: 0.0845 - val_accuracy: 0.9853\n",
      "Epoch 14/30\n",
      "1875/1875 [==============================] - 20s 11ms/step - loss: 0.0038 - accuracy: 0.9987 - val_loss: 0.0743 - val_accuracy: 0.9875\n",
      "Epoch 15/30\n",
      "1875/1875 [==============================] - 20s 11ms/step - loss: 0.0018 - accuracy: 0.9994 - val_loss: 0.0841 - val_accuracy: 0.9838\n",
      "Epoch 16/30\n",
      "1875/1875 [==============================] - 20s 10ms/step - loss: 0.0027 - accuracy: 0.9991 - val_loss: 0.0741 - val_accuracy: 0.9861\n",
      "Epoch 17/30\n",
      "1875/1875 [==============================] - 20s 11ms/step - loss: 0.0026 - accuracy: 0.9990 - val_loss: 0.0708 - val_accuracy: 0.9864\n",
      "Epoch 18/30\n",
      "1875/1875 [==============================] - 22s 12ms/step - loss: 0.0012 - accuracy: 0.9996 - val_loss: 0.0727 - val_accuracy: 0.9874\n",
      "Epoch 19/30\n",
      "1875/1875 [==============================] - 22s 12ms/step - loss: 0.0024 - accuracy: 0.9990 - val_loss: 0.0654 - val_accuracy: 0.9877\n",
      "Epoch 20/30\n",
      "1875/1875 [==============================] - 22s 12ms/step - loss: 5.1347e-04 - accuracy: 0.9999 - val_loss: 0.0838 - val_accuracy: 0.9867\n",
      "Epoch 21/30\n",
      "1875/1875 [==============================] - 22s 12ms/step - loss: 0.0023 - accuracy: 0.9993 - val_loss: 0.0818 - val_accuracy: 0.9869\n",
      "Epoch 22/30\n",
      "1875/1875 [==============================] - 22s 12ms/step - loss: 4.1258e-04 - accuracy: 0.9999 - val_loss: 0.0774 - val_accuracy: 0.9870\n",
      "Epoch 23/30\n",
      "1875/1875 [==============================] - 22s 12ms/step - loss: 0.0017 - accuracy: 0.9995 - val_loss: 0.0750 - val_accuracy: 0.9863\n",
      "Epoch 24/30\n",
      "1875/1875 [==============================] - 22s 12ms/step - loss: 0.0011 - accuracy: 0.9997 - val_loss: 0.0826 - val_accuracy: 0.9855\n",
      "Epoch 25/30\n",
      "1875/1875 [==============================] - 22s 12ms/step - loss: 9.4733e-04 - accuracy: 0.9997 - val_loss: 0.0847 - val_accuracy: 0.9862\n",
      "Epoch 26/30\n",
      "1875/1875 [==============================] - 20s 11ms/step - loss: 0.0012 - accuracy: 0.9997 - val_loss: 0.0783 - val_accuracy: 0.9882\n",
      "Epoch 27/30\n",
      "1875/1875 [==============================] - 22s 12ms/step - loss: 3.3520e-04 - accuracy: 1.0000 - val_loss: 0.0927 - val_accuracy: 0.9879\n",
      "Epoch 28/30\n",
      "1875/1875 [==============================] - 23s 12ms/step - loss: 4.0092e-04 - accuracy: 0.9999 - val_loss: 0.1001 - val_accuracy: 0.9848\n",
      "Epoch 29/30\n",
      "1875/1875 [==============================] - 23s 12ms/step - loss: 4.6980e-04 - accuracy: 0.9998 - val_loss: 0.1071 - val_accuracy: 0.9859\n",
      "Epoch 30/30\n",
      "1875/1875 [==============================] - 22s 12ms/step - loss: 0.0014 - accuracy: 0.9996 - val_loss: 0.0961 - val_accuracy: 0.9886\n"
     ]
    }
   ],
   "source": [
    "history = model.fit(x_train, y_train, epochs=30, validation_data=(x_test, y_test))"
   ],
   "metadata": {
    "collapsed": false,
    "pycharm": {
     "name": "#%%\n"
    }
   }
  },
  {
   "cell_type": "markdown",
   "source": [
    "On affiche l'évolution de l'entrainement de notre modèle"
   ],
   "metadata": {
    "collapsed": false,
    "pycharm": {
     "name": "#%% md\n"
    }
   }
  },
  {
   "cell_type": "code",
   "execution_count": 9,
   "outputs": [
    {
     "data": {
      "text/plain": "<matplotlib.legend.Legend at 0x25d89ce8f10>"
     },
     "execution_count": 9,
     "metadata": {},
     "output_type": "execute_result"
    },
    {
     "data": {
      "text/plain": "<Figure size 432x288 with 1 Axes>",
      "image/png": "[encoded data removed]"
     },
     "metadata": {
      "needs_background": "light"
     },
     "output_type": "display_data"
    }
   ],
   "source": [
    "plt.plot(history.history['accuracy'], label='accuracy')\n",
    "plt.plot(history.history['val_accuracy'], label='val_accuracy')\n",
    "plt.xlabel('Epoch')\n",
    "plt.ylabel('Accuracy')\n",
    "plt.legend(loc='lower right')"
   ],
   "metadata": {
    "collapsed": false,
    "pycharm": {
     "name": "#%%\n"
    }
   }
  },
  {
   "cell_type": "markdown",
   "source": [
    "On teste notre modèle avec la base de test"
   ],
   "metadata": {
    "collapsed": false,
    "pycharm": {
     "name": "#%% md\n"
    }
   }
  },
  {
   "cell_type": "code",
   "execution_count": 10,
   "outputs": [
    {
     "name": "stdout",
     "output_type": "stream",
     "text": [
      "313/313 [==============================] - 1s 4ms/step - loss: 0.0961 - accuracy: 0.9886\n",
      "Test accuracy: 0.989\n"
     ]
    }
   ],
   "source": [
    "loss, accuracy = model.evaluate(x_test, y_test)\n",
    "print(f\"Test accuracy: {round(accuracy, 3)}\")"
   ],
   "metadata": {
    "collapsed": false,
    "pycharm": {
     "name": "#%%\n"
    }
   }
  },
  {
   "cell_type": "markdown",
   "source": [
    "Notre modèle à une précision d'environ 98.9% sur la base de test"
   ],
   "metadata": {
    "collapsed": false,
    "pycharm": {
     "name": "#%% md\n"
    }
   }
  },
  {
   "cell_type": "markdown",
   "source": [
    "On affiche la matrice de confusion"
   ],
   "metadata": {
    "collapsed": false,
    "pycharm": {
     "name": "#%% md\n"
    }
   }
  },
  {
   "cell_type": "code",
   "execution_count": 11,
   "outputs": [
    {
     "data": {
      "text/plain": "<Figure size 432x288 with 2 Axes>",
      "image/png": "[encoded data removed]"
     },
     "metadata": {
      "needs_background": "light"
     },
     "output_type": "display_data"
    }
   ],
   "source": [
    "y_predict = model.predict(x_test)\n",
    "y_predict_classes = np.argmax(y_predict, axis=1)\n",
    "y_true = np.argmax(y_test, axis=1)\n",
    "cm = confusion_matrix(y_true, y_predict_classes)\n",
    "\n",
    "classes = range(10)\n",
    "plt.imshow(cm, interpolation='nearest', cmap=plt.get_cmap(\"Blues\"))\n",
    "plt.title(\"Confusion matrix\")\n",
    "plt.colorbar()\n",
    "tick_marks = np.arange(len(classes))\n",
    "plt.xticks(tick_marks, classes)\n",
    "plt.yticks(tick_marks, classes)\n",
    "\n",
    "thresh = cm.max() / 2.\n",
    "for i, j in itertools.product(range(cm.shape[0]), range(cm.shape[1])):\n",
    "    plt.text(j, i, cm[i, j], horizontalalignment=\"center\", color=\"white\" if cm[i, j] > thresh else \"black\")\n",
    "\n",
    "plt.tight_layout()\n",
    "plt.ylabel('True label')\n",
    "plt.xlabel('Predicted label')\n",
    "plt.show()"
   ],
   "metadata": {
    "collapsed": false,
    "pycharm": {
     "name": "#%%\n"
    }
   }
  },
  {
   "cell_type": "markdown",
   "source": [
    "En lisant cette matrice de confusion, on peut observer que notre modèle à quelques problèmes\n",
    "\n",
    "Pour essayer de comprendre pourquoi notre modèle à des difficultés, on va afficher certaines de ces erreurs\n"
   ],
   "metadata": {
    "collapsed": false,
    "pycharm": {
     "name": "#%% md\n"
    }
   }
  },
  {
   "cell_type": "code",
   "execution_count": 12,
   "outputs": [
    {
     "data": {
      "text/plain": "<Figure size 720x720 with 9 Axes>",
      "image/png": "[encoded data removed]"
     },
     "metadata": {
      "needs_background": "light"
     },
     "output_type": "display_data"
    }
   ],
   "source": [
    "errors = (y_predict_classes - y_true != 0)\n",
    "\n",
    "y_predict_classes_errors = y_predict_classes[errors]\n",
    "y_predict_errors = y_predict[errors]\n",
    "y_true_errors = y_true[errors]\n",
    "x_values_errors = x_test[errors]\n",
    "\n",
    "y_predict_errors_prob = np.max(y_predict_errors, axis=1)\n",
    "true_prob_errors = np.diagonal(np.take(y_predict_errors, y_true_errors, axis=1))\n",
    "\n",
    "most_important_errors = np.argsort(y_predict_errors_prob - true_prob_errors)[-9:]\n",
    "\n",
    "n = 0\n",
    "fig, axs = plt.subplots(3, 3, figsize=(10, 10))\n",
    "for i in range(3):\n",
    "    for j in range(3):\n",
    "        error = most_important_errors[n]\n",
    "        axs[i, j].imshow((x_values_errors[error]).reshape((28, 28)), cmap=plt.get_cmap('gray'))\n",
    "        axs[i, j].axis(\"off\")\n",
    "        axs[i, j].set_title(\"Predicted label: {}\\nTrue label: {}\".format(y_predict_classes_errors[error], y_true_errors[error]))\n",
    "        n += 1"
   ],
   "metadata": {
    "collapsed": false,
    "pycharm": {
     "name": "#%%\n"
    }
   }
  },
  {
   "cell_type": "markdown",
   "source": [
    "On peut voir que certaines des erreurs de notre modèle peuvent prêter à confusion.\n",
    "\n",
    "Cependant, on peut voir que certaines erreurs pourraient être évitée en modifiant notre jeu de données et faire des rotations sur certaines images."
   ],
   "metadata": {
    "collapsed": false,
    "pycharm": {
     "name": "#%% md\n"
    }
   }
  }
 ],
 "metadata": {
  "kernelspec": {
   "display_name": "Python 3",
   "language": "python",
   "name": "python3"
  },
  "language_info": {
   "codemirror_mode": {
    "name": "ipython",
    "version": 3
   },
   "file_extension": ".py",
   "mimetype": "text/x-python",
   "name": "python",
   "nbconvert_exporter": "python",
   "pygments_lexer": "ipython3",
   "version": "3.9.0"
  }
 },
 "nbformat": 4,
 "nbformat_minor": 5
}