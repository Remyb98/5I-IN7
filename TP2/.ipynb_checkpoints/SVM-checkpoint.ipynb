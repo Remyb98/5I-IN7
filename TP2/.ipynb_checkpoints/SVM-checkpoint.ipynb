{
 "cells": [
  {
   "cell_type": "markdown",
   "metadata": {
    "id": "cJ1It1fl_kWH"
   },
   "source": [
    "# Download Dataset"
   ]
  },
  {
   "cell_type": "code",
   "execution_count": null,
   "metadata": {
    "id": "SbtX_4lF_rvD"
   },
   "outputs": [],
   "source": [
    "!gdown --id 1sQEIPh3bdKQ_1J3g0Z8CRqD6uU7v746l"
   ]
  },
  {
   "cell_type": "code",
   "execution_count": null,
   "metadata": {
    "id": "qEWzAzHYFI6B"
   },
   "outputs": [],
   "source": [
    "!unzip dataset.zip"
   ]
  },
  {
   "cell_type": "code",
   "execution_count": null,
   "metadata": {
    "id": "2r-oOeuVFbXz"
   },
   "outputs": [],
   "source": [
    "import pathlib\n",
    "data_dir = pathlib.Path(\"./flowers\")\n",
    "image_count = len(list(data_dir.glob('*/*.jpg')))\n",
    "print(image_count)"
   ]
  },
  {
   "cell_type": "markdown",
   "metadata": {
    "id": "REGBZcte_tRK"
   },
   "source": [
    "# Load dataset"
   ]
  },
  {
   "cell_type": "code",
   "execution_count": null,
   "metadata": {
    "id": "IskJyFf8GI_F"
   },
   "outputs": [],
   "source": [
    "import cv2\n",
    "import numpy as np\n",
    "import os\n",
    "\n",
    "dataset = []\n",
    "count = 0\n",
    "for label in os.listdir(\"./flowers/\"):\n",
    "    for filename in os.listdir(os.path.join(\"./flowers/\",label)):\n",
    "        count = count + 1\n",
    "        print(str(count) + \" ---loading \" + filename)\n",
    "        image = cv2.imread(os.path.join(\"./flowers/\",label,filename))\n",
    "        dataset.append((image, label))"
   ]
  },
  {
   "cell_type": "code",
   "execution_count": null,
   "metadata": {
    "id": "5wRY-WMGIQeb"
   },
   "outputs": [],
   "source": [
    "import random\n",
    "print(random.sample(dataset, 10))"
   ]
  },
  {
   "cell_type": "code",
   "execution_count": null,
   "metadata": {
    "id": "FoearZTtI5W6"
   },
   "outputs": [],
   "source": [
    "import random\n",
    "random.shuffle(dataset)"
   ]
  },
  {
   "cell_type": "markdown",
   "metadata": {
    "id": "EOY3raHxJZ-p"
   },
   "source": [
    "# Display dataset"
   ]
  },
  {
   "cell_type": "code",
   "execution_count": null,
   "metadata": {
    "id": "r1QP2CS8JeOb"
   },
   "outputs": [],
   "source": [
    "import matplotlib.pyplot as plt\n",
    "fig, axs = plt.subplots(3, 3, figsize = (12, 12))\n",
    "plt.gray()\n",
    "\n",
    "for i, ax in enumerate(axs.flat):\n",
    "    ax.imshow(dataset[i][0][:,:,::-1])\n",
    "    ax.axis('off')\n",
    "    ax.set_title(dataset[i][1])\n",
    "plt.show()"
   ]
  },
  {
   "cell_type": "markdown",
   "metadata": {
    "id": "aeEhsPQCL0Bb"
   },
   "source": [
    "# Preprocessing"
   ]
  },
  {
   "cell_type": "markdown",
   "metadata": {
    "id": "GW6fWMhLOCbb"
   },
   "source": [
    "## Resizing"
   ]
  },
  {
   "cell_type": "code",
   "execution_count": null,
   "metadata": {
    "id": "K_KhGMaBOkYS"
   },
   "outputs": [],
   "source": [
    "image_size = (32, 32)"
   ]
  },
  {
   "cell_type": "code",
   "execution_count": null,
   "metadata": {
    "id": "voaDdoD8OB3T"
   },
   "outputs": [],
   "source": [
    "import cv2\n",
    "resized = []\n",
    "for d in dataset:\n",
    "    resized.append((cv2.resize(d[0], image_size), d[1]))"
   ]
  },
  {
   "cell_type": "code",
   "execution_count": null,
   "metadata": {
    "id": "SvkpO2wFQkiK"
   },
   "outputs": [],
   "source": [
    "dataset = resized"
   ]
  },
  {
   "cell_type": "markdown",
   "metadata": {
    "id": "j8la3H1eL5dV"
   },
   "source": [
    "## Reshape"
   ]
  },
  {
   "cell_type": "code",
   "execution_count": null,
   "metadata": {
    "id": "9STKv5_aMk2s"
   },
   "outputs": [],
   "source": [
    "images = np.asarray([d[0] for d in dataset])\n",
    "print(images.shape)"
   ]
  },
  {
   "cell_type": "code",
   "execution_count": null,
   "metadata": {
    "id": "OVJUDshRL9QW"
   },
   "outputs": [],
   "source": [
    "images = #...\n",
    "print(images.shape)"
   ]
  },
  {
   "cell_type": "code",
   "execution_count": null,
   "metadata": {
    "id": "IMmZMhXOCP4-"
   },
   "outputs": [],
   "source": [
    "labels_classes_mapping = {\"daisy\":0,\"dandelion\":1,\"rose\":2,\"sunflower\":3,\"tulip\":4}\n",
    "labels = np.asarray([labels_classes_mapping[d[1]] for d in dataset])\n",
    "print(labels.shape)"
   ]
  },
  {
   "cell_type": "markdown",
   "metadata": {
    "id": "r36NBBYOL9n4"
   },
   "source": [
    "## Normalization"
   ]
  },
  {
   "cell_type": "code",
   "execution_count": null,
   "metadata": {
    "id": "7RhTS8a3L17l"
   },
   "outputs": [],
   "source": [
    "images = #..."
   ]
  },
  {
   "cell_type": "markdown",
   "metadata": {
    "id": "_c_ZcIG0ryXt"
   },
   "source": [
    "# Split Train/Test"
   ]
  },
  {
   "cell_type": "code",
   "execution_count": null,
   "metadata": {
    "id": "Hd9pr9i8r2DQ"
   },
   "outputs": [],
   "source": [
    "from sklearn.model_selection import train_test_split\n",
    "(train_x, test_x, train_y, test_y) = train_test_split(images,labels)"
   ]
  },
  {
   "cell_type": "markdown",
   "metadata": {
    "id": "_l-LDSwdCaxT"
   },
   "source": [
    "# SVM"
   ]
  },
  {
   "cell_type": "code",
   "execution_count": null,
   "metadata": {
    "id": "aWNkD-kwCdXL"
   },
   "outputs": [],
   "source": [
    "from sklearn.svm import SVC\n",
    "svc = SVC(kernel='linear')\n",
    "svc.fit(train_x, train_y)"
   ]
  },
  {
   "cell_type": "code",
   "execution_count": null,
   "metadata": {
    "id": "sHN6p4GpCGCv"
   },
   "outputs": [],
   "source": [
    "predicted_y = svc.predict(test_x)"
   ]
  },
  {
   "cell_type": "code",
   "execution_count": null,
   "metadata": {
    "id": "SaGMpJDOCn6K"
   },
   "outputs": [],
   "source": [
    "from sklearn.metrics import accuracy_score\n",
    "print(\"Accuracy on unknown data is\",accuracy_score(test_y,predicted_y))"
   ]
  }
 ],
 "metadata": {
  "colab": {
   "collapsed_sections": [],
   "name": "SVM.ipynb",
   "provenance": []
  },
  "kernelspec": {
   "display_name": "Python 3",
   "language": "python",
   "name": "python3"
  },
  "language_info": {
   "codemirror_mode": {
    "name": "ipython",
    "version": 3
   },
   "file_extension": ".py",
   "mimetype": "text/x-python",
   "name": "python",
   "nbconvert_exporter": "python",
   "pygments_lexer": "ipython3",
   "version": "3.9.0"
  }
 },
 "nbformat": 4,
 "nbformat_minor": 1
}
