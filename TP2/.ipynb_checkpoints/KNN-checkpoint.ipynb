{
 "cells": [
  {
   "cell_type": "markdown",
   "metadata": {
    "id": "cJ1It1fl_kWH"
   },
   "source": [
    "# Download Dataset"
   ]
  },
  {
   "cell_type": "code",
   "execution_count": null,
   "metadata": {
    "id": "SbtX_4lF_rvD"
   },
   "outputs": [],
   "source": [
    "!gdown --id 1sQEIPh3bdKQ_1J3g0Z8CRqD6uU7v746l"
   ]
  },
  {
   "cell_type": "code",
   "execution_count": null,
   "metadata": {
    "id": "qEWzAzHYFI6B"
   },
   "outputs": [],
   "source": [
    "!unzip dataset.zip"
   ]
  },
  {
   "cell_type": "code",
   "execution_count": null,
   "metadata": {
    "id": "2r-oOeuVFbXz"
   },
   "outputs": [],
   "source": [
    "import pathlib\n",
    "data_dir = pathlib.Path(\"./flowers\")\n",
    "image_count = len(list(data_dir.glob('*/*.jpg')))\n",
    "print(image_count)"
   ]
  },
  {
   "cell_type": "markdown",
   "metadata": {
    "id": "REGBZcte_tRK"
   },
   "source": [
    "# Load dataset"
   ]
  },
  {
   "cell_type": "code",
   "execution_count": null,
   "metadata": {
    "id": "IskJyFf8GI_F"
   },
   "outputs": [],
   "source": [
    "import cv2\n",
    "import numpy as np\n",
    "import os\n",
    "\n",
    "dataset = []\n",
    "count = 0\n",
    "for label in os.listdir(\"./flowers/\"):\n",
    "    for filename in os.listdir(os.path.join(\"./flowers/\",label)):\n",
    "        count = count + 1\n",
    "        print(str(count) + \" ---loading \" + filename)\n",
    "        image = cv2.imread(os.path.join(\"./flowers/\",label,filename))\n",
    "        dataset.append((image, label))"
   ]
  },
  {
   "cell_type": "code",
   "execution_count": null,
   "metadata": {
    "id": "5wRY-WMGIQeb"
   },
   "outputs": [],
   "source": [
    "import random\n",
    "print(random.sample(dataset, 10))"
   ]
  },
  {
   "cell_type": "code",
   "execution_count": null,
   "metadata": {
    "id": "FoearZTtI5W6"
   },
   "outputs": [],
   "source": [
    "import random\n",
    "random.shuffle(dataset)"
   ]
  },
  {
   "cell_type": "markdown",
   "metadata": {
    "id": "EOY3raHxJZ-p"
   },
   "source": [
    "# Display dataset"
   ]
  },
  {
   "cell_type": "code",
   "execution_count": null,
   "metadata": {
    "id": "r1QP2CS8JeOb"
   },
   "outputs": [],
   "source": [
    "import matplotlib.pyplot as plt\n",
    "fig, axs = plt.subplots(3, 3, figsize = (12, 12))\n",
    "plt.gray()\n",
    "\n",
    "for i, ax in enumerate(axs.flat):\n",
    "    ax.imshow(dataset[i][0][:,:,::-1])\n",
    "    ax.axis('off')\n",
    "    ax.set_title(dataset[i][1])\n",
    "plt.show()"
   ]
  },
  {
   "cell_type": "markdown",
   "metadata": {
    "id": "nP4U_YY9nddo"
   },
   "source": [
    "# Define Feature Extractor"
   ]
  },
  {
   "cell_type": "markdown",
   "metadata": {
    "id": "95j71HpVpN6e"
   },
   "source": [
    "## Raw pixel values"
   ]
  },
  {
   "cell_type": "code",
   "execution_count": null,
   "metadata": {
    "id": "REKfg99ooTpo"
   },
   "outputs": [],
   "source": [
    "import cv2\n",
    "def image_to_feature_vector(image, size=(32, 32)):\n",
    "    return cv2.resize(image, size).flatten()"
   ]
  },
  {
   "cell_type": "markdown",
   "metadata": {
    "id": "N-Zy2dPypTW8"
   },
   "source": [
    "## Histogram"
   ]
  },
  {
   "cell_type": "code",
   "execution_count": null,
   "metadata": {
    "id": "8j-fbnTroUVT"
   },
   "outputs": [],
   "source": [
    "import imutils\n",
    "def extract_color_histogram(image, bins=(8, 8, 8)):\n",
    "    hsv = cv2.cvtColor(image, cv2.COLOR_BGR2HSV)\n",
    "    hist = cv2.calcHist([hsv], [0, 1, 2], None, bins,[0, 180, 0, 256, 0, 256])\n",
    "    cv2.normalize(hist,hist)\n",
    "    return hist.flatten()"
   ]
  },
  {
   "cell_type": "markdown",
   "metadata": {
    "id": "zUAFZpoSphqk"
   },
   "source": [
    "# Feature extraction"
   ]
  },
  {
   "cell_type": "code",
   "execution_count": null,
   "metadata": {
    "id": "cTXUM-ynpke1"
   },
   "outputs": [],
   "source": [
    "rawImages = []\n",
    "features = []\n",
    "labels = []"
   ]
  },
  {
   "cell_type": "code",
   "execution_count": null,
   "metadata": {
    "id": "dFDu0xSup2r_"
   },
   "outputs": [],
   "source": [
    "labels_classes_mapping = {\"daisy\":0,\"dandelion\":1,\"rose\":2,\"sunflower\":3,\"tulip\":4}\n",
    "for (image, label) in dataset:\n",
    "\t#..."
   ]
  },
  {
   "cell_type": "code",
   "execution_count": null,
   "metadata": {
    "id": "XaYeVNRVrnm9"
   },
   "outputs": [],
   "source": [
    "rawImages = np.array(rawImages)\n",
    "features = np.array(features)\n",
    "labels = np.array(labels)\n",
    "print(rawImages.shape)\n",
    "print(features.shape)\n",
    "print(labels.shape)"
   ]
  },
  {
   "cell_type": "markdown",
   "metadata": {
    "id": "_c_ZcIG0ryXt"
   },
   "source": [
    "# Split Train/Test"
   ]
  },
  {
   "cell_type": "code",
   "execution_count": null,
   "metadata": {
    "id": "Hd9pr9i8r2DQ"
   },
   "outputs": [],
   "source": [
    "from sklearn.model_selection import train_test_split\n",
    "(trainRawX, testRawX, trainRawY, testRawY) = train_test_split(rawImages, labels, test_size=0.25, random_state=42)\n",
    "(trainFeatX, testFeatX, trainFeatY, testFeatY) = train_test_split(features, labels, test_size=0.25, random_state=42)"
   ]
  },
  {
   "cell_type": "markdown",
   "metadata": {
    "id": "8cMjK37DsF-x"
   },
   "source": [
    "# KNN "
   ]
  },
  {
   "cell_type": "code",
   "execution_count": null,
   "metadata": {
    "id": "QJrw5yS0sJPV"
   },
   "outputs": [],
   "source": [
    "from sklearn.neighbors import KNeighborsClassifier\n",
    "\n",
    "model = KNeighborsClassifier(n_neighbors=100,n_jobs=-1)\n",
    "model.fit(trainRawX, trainRawY)\n",
    "acc = model.score(testRawX, testRawY)\n",
    "print(\"raw pixel accuracy: {:.2f}%\".format(acc * 100))"
   ]
  },
  {
   "cell_type": "code",
   "execution_count": null,
   "metadata": {
    "id": "_rWvuzXisMka"
   },
   "outputs": [],
   "source": [
    "from sklearn.neighbors import KNeighborsClassifier\n",
    "\n",
    "model = KNeighborsClassifier(n_neighbors=100,n_jobs=-1)\n",
    "model.fit(trainFeatX, trainFeatY)\n",
    "acc = model.score(testFeatX, testFeatY)\n",
    "print(\"histogram accuracy: {:.2f}%\".format(acc * 100))"
   ]
  }
 ],
 "metadata": {
  "colab": {
   "collapsed_sections": [],
   "name": "KNN.ipynb",
   "provenance": []
  },
  "kernelspec": {
   "display_name": "Python 3",
   "language": "python",
   "name": "python3"
  },
  "language_info": {
   "codemirror_mode": {
    "name": "ipython",
    "version": 3
   },
   "file_extension": ".py",
   "mimetype": "text/x-python",
   "name": "python",
   "nbconvert_exporter": "python",
   "pygments_lexer": "ipython3",
   "version": "3.9.0"
  }
 },
 "nbformat": 4,
 "nbformat_minor": 1
}
